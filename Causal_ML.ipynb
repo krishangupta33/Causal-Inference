{
 "cells": [
  {
   "cell_type": "code",
   "execution_count": 47,
   "metadata": {},
   "outputs": [],
   "source": [
    "import pandas as pd\n",
    "import numpy as np\n",
    "import matplotlib.pyplot as plt\n",
    "\n",
    "# Read in the data\n",
    "df = pd.read_csv('hotels.csv')"
   ]
  },
  {
   "cell_type": "code",
   "execution_count": 48,
   "metadata": {},
   "outputs": [],
   "source": [
    "from missingno import matrix"
   ]
  },
  {
   "cell_type": "code",
   "execution_count": 49,
   "metadata": {},
   "outputs": [
    {
     "data": {
      "text/html": [
       "<div>\n",
       "<style scoped>\n",
       "    .dataframe tbody tr th:only-of-type {\n",
       "        vertical-align: middle;\n",
       "    }\n",
       "\n",
       "    .dataframe tbody tr th {\n",
       "        vertical-align: top;\n",
       "    }\n",
       "\n",
       "    .dataframe thead th {\n",
       "        text-align: right;\n",
       "    }\n",
       "</style>\n",
       "<table border=\"1\" class=\"dataframe\">\n",
       "  <thead>\n",
       "    <tr style=\"text-align: right;\">\n",
       "      <th></th>\n",
       "      <th>hotel</th>\n",
       "      <th>is_canceled</th>\n",
       "      <th>lead_time</th>\n",
       "      <th>arrival_date_year</th>\n",
       "      <th>arrival_date_month</th>\n",
       "      <th>arrival_date_week_number</th>\n",
       "      <th>arrival_date_day_of_month</th>\n",
       "      <th>stays_in_weekend_nights</th>\n",
       "      <th>stays_in_week_nights</th>\n",
       "      <th>adults</th>\n",
       "      <th>...</th>\n",
       "      <th>deposit_type</th>\n",
       "      <th>agent</th>\n",
       "      <th>company</th>\n",
       "      <th>days_in_waiting_list</th>\n",
       "      <th>customer_type</th>\n",
       "      <th>adr</th>\n",
       "      <th>required_car_parking_spaces</th>\n",
       "      <th>total_of_special_requests</th>\n",
       "      <th>reservation_status</th>\n",
       "      <th>reservation_status_date</th>\n",
       "    </tr>\n",
       "  </thead>\n",
       "  <tbody>\n",
       "    <tr>\n",
       "      <th>0</th>\n",
       "      <td>Resort Hotel</td>\n",
       "      <td>0</td>\n",
       "      <td>342</td>\n",
       "      <td>2015</td>\n",
       "      <td>July</td>\n",
       "      <td>27</td>\n",
       "      <td>1</td>\n",
       "      <td>0</td>\n",
       "      <td>0</td>\n",
       "      <td>2</td>\n",
       "      <td>...</td>\n",
       "      <td>No Deposit</td>\n",
       "      <td>NaN</td>\n",
       "      <td>NaN</td>\n",
       "      <td>0</td>\n",
       "      <td>Transient</td>\n",
       "      <td>0.0</td>\n",
       "      <td>0</td>\n",
       "      <td>0</td>\n",
       "      <td>Check-Out</td>\n",
       "      <td>2015-07-01</td>\n",
       "    </tr>\n",
       "    <tr>\n",
       "      <th>1</th>\n",
       "      <td>Resort Hotel</td>\n",
       "      <td>0</td>\n",
       "      <td>737</td>\n",
       "      <td>2015</td>\n",
       "      <td>July</td>\n",
       "      <td>27</td>\n",
       "      <td>1</td>\n",
       "      <td>0</td>\n",
       "      <td>0</td>\n",
       "      <td>2</td>\n",
       "      <td>...</td>\n",
       "      <td>No Deposit</td>\n",
       "      <td>NaN</td>\n",
       "      <td>NaN</td>\n",
       "      <td>0</td>\n",
       "      <td>Transient</td>\n",
       "      <td>0.0</td>\n",
       "      <td>0</td>\n",
       "      <td>0</td>\n",
       "      <td>Check-Out</td>\n",
       "      <td>2015-07-01</td>\n",
       "    </tr>\n",
       "    <tr>\n",
       "      <th>2</th>\n",
       "      <td>Resort Hotel</td>\n",
       "      <td>0</td>\n",
       "      <td>7</td>\n",
       "      <td>2015</td>\n",
       "      <td>July</td>\n",
       "      <td>27</td>\n",
       "      <td>1</td>\n",
       "      <td>0</td>\n",
       "      <td>1</td>\n",
       "      <td>1</td>\n",
       "      <td>...</td>\n",
       "      <td>No Deposit</td>\n",
       "      <td>NaN</td>\n",
       "      <td>NaN</td>\n",
       "      <td>0</td>\n",
       "      <td>Transient</td>\n",
       "      <td>75.0</td>\n",
       "      <td>0</td>\n",
       "      <td>0</td>\n",
       "      <td>Check-Out</td>\n",
       "      <td>2015-07-02</td>\n",
       "    </tr>\n",
       "    <tr>\n",
       "      <th>3</th>\n",
       "      <td>Resort Hotel</td>\n",
       "      <td>0</td>\n",
       "      <td>13</td>\n",
       "      <td>2015</td>\n",
       "      <td>July</td>\n",
       "      <td>27</td>\n",
       "      <td>1</td>\n",
       "      <td>0</td>\n",
       "      <td>1</td>\n",
       "      <td>1</td>\n",
       "      <td>...</td>\n",
       "      <td>No Deposit</td>\n",
       "      <td>304.0</td>\n",
       "      <td>NaN</td>\n",
       "      <td>0</td>\n",
       "      <td>Transient</td>\n",
       "      <td>75.0</td>\n",
       "      <td>0</td>\n",
       "      <td>0</td>\n",
       "      <td>Check-Out</td>\n",
       "      <td>2015-07-02</td>\n",
       "    </tr>\n",
       "    <tr>\n",
       "      <th>4</th>\n",
       "      <td>Resort Hotel</td>\n",
       "      <td>0</td>\n",
       "      <td>14</td>\n",
       "      <td>2015</td>\n",
       "      <td>July</td>\n",
       "      <td>27</td>\n",
       "      <td>1</td>\n",
       "      <td>0</td>\n",
       "      <td>2</td>\n",
       "      <td>2</td>\n",
       "      <td>...</td>\n",
       "      <td>No Deposit</td>\n",
       "      <td>240.0</td>\n",
       "      <td>NaN</td>\n",
       "      <td>0</td>\n",
       "      <td>Transient</td>\n",
       "      <td>98.0</td>\n",
       "      <td>0</td>\n",
       "      <td>1</td>\n",
       "      <td>Check-Out</td>\n",
       "      <td>2015-07-03</td>\n",
       "    </tr>\n",
       "  </tbody>\n",
       "</table>\n",
       "<p>5 rows × 32 columns</p>\n",
       "</div>"
      ],
      "text/plain": [
       "          hotel  is_canceled  lead_time  arrival_date_year arrival_date_month  \\\n",
       "0  Resort Hotel            0        342               2015               July   \n",
       "1  Resort Hotel            0        737               2015               July   \n",
       "2  Resort Hotel            0          7               2015               July   \n",
       "3  Resort Hotel            0         13               2015               July   \n",
       "4  Resort Hotel            0         14               2015               July   \n",
       "\n",
       "   arrival_date_week_number  arrival_date_day_of_month  \\\n",
       "0                        27                          1   \n",
       "1                        27                          1   \n",
       "2                        27                          1   \n",
       "3                        27                          1   \n",
       "4                        27                          1   \n",
       "\n",
       "   stays_in_weekend_nights  stays_in_week_nights  adults  ...  deposit_type  \\\n",
       "0                        0                     0       2  ...    No Deposit   \n",
       "1                        0                     0       2  ...    No Deposit   \n",
       "2                        0                     1       1  ...    No Deposit   \n",
       "3                        0                     1       1  ...    No Deposit   \n",
       "4                        0                     2       2  ...    No Deposit   \n",
       "\n",
       "   agent company days_in_waiting_list customer_type   adr  \\\n",
       "0    NaN     NaN                    0     Transient   0.0   \n",
       "1    NaN     NaN                    0     Transient   0.0   \n",
       "2    NaN     NaN                    0     Transient  75.0   \n",
       "3  304.0     NaN                    0     Transient  75.0   \n",
       "4  240.0     NaN                    0     Transient  98.0   \n",
       "\n",
       "   required_car_parking_spaces  total_of_special_requests  reservation_status  \\\n",
       "0                            0                          0           Check-Out   \n",
       "1                            0                          0           Check-Out   \n",
       "2                            0                          0           Check-Out   \n",
       "3                            0                          0           Check-Out   \n",
       "4                            0                          1           Check-Out   \n",
       "\n",
       "  reservation_status_date  \n",
       "0              2015-07-01  \n",
       "1              2015-07-01  \n",
       "2              2015-07-02  \n",
       "3              2015-07-02  \n",
       "4              2015-07-03  \n",
       "\n",
       "[5 rows x 32 columns]"
      ]
     },
     "execution_count": 49,
     "metadata": {},
     "output_type": "execute_result"
    }
   ],
   "source": [
    "df.head()"
   ]
  },
  {
   "cell_type": "code",
   "execution_count": 50,
   "metadata": {},
   "outputs": [
    {
     "data": {
      "text/plain": [
       "(is_canceled\n",
       " 0    75166\n",
       " 1    44224\n",
       " Name: count, dtype: int64,\n",
       " is_canceled\n",
       " 0    0.629584\n",
       " 1    0.370416\n",
       " Name: proportion, dtype: float64)"
      ]
     },
     "execution_count": 50,
     "metadata": {},
     "output_type": "execute_result"
    }
   ],
   "source": [
    "#is_canceled count and proportion\n",
    "is_canceled_count = df['is_canceled'].value_counts()\n",
    "is_canceled_proportion = df['is_canceled'].value_counts(normalize=True)\n",
    "\n",
    "is_canceled_count, is_canceled_proportion\n"
   ]
  },
  {
   "cell_type": "code",
   "execution_count": 51,
   "metadata": {},
   "outputs": [
    {
     "name": "stdout",
     "output_type": "stream",
     "text": [
      "The hotel lost $30.9568 million in 3 Years due to cancellations\n",
      "The hotel could potentially save $1.03 million in per Year due to reduction in cancellations\n"
     ]
    }
   ],
   "source": [
    "#how much does it cost the hotel in this time frame\n",
    "cost = 44224 * 200 * 3.5 #average night 200$ and average stay 3.5 nights\n",
    "\n",
    "print(f'The hotel lost ${cost/1000000} million in 3 Years due to cancellations')\n",
    "\n",
    "#saving if we are able to solve 10% of the cancellations\n",
    "savings = 44224 * 200 * 3.5 * 0.1 \n",
    "\n",
    "print(f'The hotel could potentially save ${round(savings/(1000000*3),2)} million in per Year due to reduction in cancellations')\n"
   ]
  },
  {
   "cell_type": "code",
   "execution_count": 52,
   "metadata": {},
   "outputs": [
    {
     "name": "stdout",
     "output_type": "stream",
     "text": [
      "<class 'pandas.core.frame.DataFrame'>: 119390 rows of 28 columns\n",
      "hotel:                           object            ['Resort Hotel', 'Res ...\n",
      "is_canceled:                     int64             [0, 0, 0, 0, 0, 0, 0, ...\n",
      "lead_time:                       int64             [342, 737, 7, 13, 14, ...\n",
      "arrival_date_year:               int64             [2015, 2015, 2015, 20 ...\n",
      "arrival_date_month:              object            ['July', 'July', 'Jul ...\n",
      "arrival_date_week_number:        int64             [27, 27, 27, 27, 27,  ...\n",
      "arrival_date_day_of_month:       int64             [1, 1, 1, 1, 1, 1, 1, ...\n",
      "meal:                            object            ['BB', 'BB', 'BB', 'B ...\n",
      "country:                         object            ['PRT', 'PRT', 'GBR', ...\n",
      "market_segment:                  object            ['Direct', 'Direct',  ...\n",
      "distribution_channel:            object            ['Direct', 'Direct',  ...\n",
      "is_repeated_guest:               int64             [0, 0, 0, 0, 0, 0, 0, ...\n",
      "previous_cancellations:          int64             [0, 0, 0, 0, 0, 0, 0, ...\n",
      "previous_bookings_not_canceled:  int64             [0, 0, 0, 0, 0, 0, 0, ...\n",
      "booking_changes:                 int64             [3, 4, 0, 0, 0, 0, 0, ...\n",
      "deposit_type:                    object            ['No Deposit', 'No De ...\n",
      "agent:                           float64           [nan, nan, nan, 304.0 ...\n",
      "company:                         float64           [nan, nan, nan, nan,  ...\n",
      "days_in_waiting_list:            int64             [0, 0, 0, 0, 0, 0, 0, ...\n",
      "customer_type:                   object            ['Transient', 'Transi ...\n",
      "adr:                             float64           [0.0, 0.0, 75.0, 75.0 ...\n",
      "required_car_parking_spaces:     int64             [0, 0, 0, 0, 0, 0, 0, ...\n",
      "total_of_special_requests:       int64             [0, 0, 0, 0, 1, 1, 0, ...\n",
      "reservation_status:              object            ['Check-Out', 'Check- ...\n",
      "reservation_status_date:         object            ['2015-07-01', '2015- ...\n",
      "total_stay:                      int64             [0, 0, 1, 1, 2, 2, 2, ...\n",
      "total_guests:                    float64           [2.0, 2.0, 1.0, 1.0,  ...\n",
      "diffrent_room_assigned:          int64             [0, 0, 1, 0, 0, 0, 0, ...\n"
     ]
    }
   ],
   "source": [
    "# Adding new features\n",
    "df['total_stay']=df['stays_in_weekend_nights']+df['stays_in_week_nights']\n",
    "df['total_guests']=df['adults']+df['children']+df['babies']\n",
    "df['diffrent_room_assigned'] = np.where(df['assigned_room_type'] == df['reserved_room_type'], 0, 1)\n",
    "\n",
    "#dropping original columns\n",
    "df.drop(\n",
    "    columns=[\n",
    "        'stays_in_weekend_nights',\n",
    "        'stays_in_week_nights',\n",
    "        'adults','children',\n",
    "        'babies',\n",
    "        'assigned_room_type',\n",
    "        'reserved_room_type'\n",
    "        ], \n",
    "        axis=1, inplace=True\n",
    "        )\n",
    "\n",
    "df.glimpse()"
   ]
  },
  {
   "cell_type": "code",
   "execution_count": 53,
   "metadata": {},
   "outputs": [
    {
     "data": {
      "text/plain": [
       "<Axes: >"
      ]
     },
     "execution_count": 53,
     "metadata": {},
     "output_type": "execute_result"
    },
    {
     "data": {
      "image/png": "[encoded data removed]",
      "text/plain": [
       "<Figure size 2500x1000 with 2 Axes>"
      ]
     },
     "metadata": {},
     "output_type": "display_data"
    }
   ],
   "source": [
    "#missing values using missingno\n",
    "matrix(df)"
   ]
  },
  {
   "cell_type": "code",
   "execution_count": 54,
   "metadata": {},
   "outputs": [],
   "source": [
    "#drop agent and company columns\n",
    "df = df.drop(columns=['agent', 'company'])\n",
    "\n",
    "#fill country with mode\n",
    "df['country'] = df['country'].fillna(df['country'].mode()[0])\n",
    "\n",
    "#drop rows with missing values\n",
    "df = df.dropna()\n",
    "\n"
   ]
  },
  {
   "cell_type": "code",
   "execution_count": 55,
   "metadata": {},
   "outputs": [
    {
     "data": {
      "text/plain": [
       "hotel                             0\n",
       "is_canceled                       0\n",
       "lead_time                         0\n",
       "arrival_date_year                 0\n",
       "arrival_date_month                0\n",
       "arrival_date_week_number          0\n",
       "arrival_date_day_of_month         0\n",
       "meal                              0\n",
       "country                           0\n",
       "market_segment                    0\n",
       "distribution_channel              0\n",
       "is_repeated_guest                 0\n",
       "previous_cancellations            0\n",
       "previous_bookings_not_canceled    0\n",
       "booking_changes                   0\n",
       "deposit_type                      0\n",
       "days_in_waiting_list              0\n",
       "customer_type                     0\n",
       "adr                               0\n",
       "required_car_parking_spaces       0\n",
       "total_of_special_requests         0\n",
       "reservation_status                0\n",
       "reservation_status_date           0\n",
       "total_stay                        0\n",
       "total_guests                      0\n",
       "diffrent_room_assigned            0\n",
       "dtype: int64"
      ]
     },
     "execution_count": 55,
     "metadata": {},
     "output_type": "execute_result"
    }
   ],
   "source": [
    "#null values\n",
    "df.isnull().sum()"
   ]
  },
  {
   "cell_type": "code",
   "execution_count": 56,
   "metadata": {},
   "outputs": [],
   "source": [
    "import pytimetk as ptk"
   ]
  },
  {
   "cell_type": "markdown",
   "metadata": {},
   "source": [
    "# Correlation   "
   ]
  },
  {
   "cell_type": "code",
   "execution_count": 58,
   "metadata": {},
   "outputs": [],
   "source": [
    "#binarize\n",
    "df_binarize = df.binarize()"
   ]
  },
  {
   "cell_type": "code",
   "execution_count": 63,
   "metadata": {},
   "outputs": [
    {
     "name": "stdout",
     "output_type": "stream",
     "text": [
      "<class 'pandas.core.frame.DataFrame'>: 119386 rows of 106 columns\n",
      "lead_time__0.0_18.0:                     int64             [0, 0, 1, 1,  ...\n",
      "lead_time__18.0_69.0:                    int64             [0, 0, 0, 0,  ...\n",
      "lead_time__69.0_160.0:                   int64             [0, 0, 0, 0,  ...\n",
      "lead_time__160.0_737.0:                  int64             [1, 1, 0, 0,  ...\n",
      "arrival_date_week_number__1.0_16.0:      int64             [0, 0, 0, 0,  ...\n",
      "arrival_date_week_number__16.0_28.0:     int64             [1, 1, 1, 1,  ...\n",
      "arrival_date_week_number__28.0_38.0:     int64             [0, 0, 0, 0,  ...\n",
      "arrival_date_week_number__38.0_53.0:     int64             [0, 0, 0, 0,  ...\n",
      "arrival_date_day_of_month__1.0_8.0:      int64             [1, 1, 1, 1,  ...\n",
      "arrival_date_day_of_month__8.0_16.0:     int64             [0, 0, 0, 0,  ...\n",
      "arrival_date_day_of_month__16.0_23.0:    int64             [0, 0, 0, 0,  ...\n",
      "arrival_date_day_of_month__23.0_31.0:    int64             [0, 0, 0, 0,  ...\n",
      "adr__-6.4_69.3:                          int64             [1, 1, 0, 0,  ...\n",
      "adr__69.3_94.6:                          int64             [0, 0, 1, 1,  ...\n",
      "adr__94.6_126.0:                         int64             [0, 0, 0, 0,  ...\n",
      "adr__126.0_5400.0:                       int64             [0, 0, 0, 0,  ...\n",
      "total_stay__0.0_2.0:                     int64             [1, 1, 1, 1,  ...\n",
      "total_stay__2.0_3.0:                     int64             [0, 0, 0, 0,  ...\n",
      "total_stay__3.0_4.0:                     int64             [0, 0, 0, 0,  ...\n",
      "total_stay__4.0_69.0:                    int64             [0, 0, 0, 0,  ...\n",
      "total_guests__0.0_2.0:                   int64             [1, 1, 1, 1,  ...\n",
      "total_guests__2.0_55.0:                  int64             [0, 0, 0, 0,  ...\n",
      "hotel__City Hotel:                       int64             [0, 0, 0, 0,  ...\n",
      "hotel__Resort Hotel:                     int64             [1, 1, 1, 1,  ...\n",
      "is_canceled__0:                          int64             [1, 1, 1, 1,  ...\n",
      "is_canceled__1:                          int64             [0, 0, 0, 0,  ...\n",
      "arrival_date_year__2015:                 int64             [1, 1, 1, 1,  ...\n",
      "arrival_date_year__2016:                 int64             [0, 0, 0, 0,  ...\n",
      "arrival_date_year__2017:                 int64             [0, 0, 0, 0,  ...\n",
      "arrival_date_month__April:               int64             [0, 0, 0, 0,  ...\n",
      "arrival_date_month__August:              int64             [0, 0, 0, 0,  ...\n",
      "arrival_date_month__December:            int64             [0, 0, 0, 0,  ...\n",
      "arrival_date_month__February:            int64             [0, 0, 0, 0,  ...\n",
      "arrival_date_month__January:             int64             [0, 0, 0, 0,  ...\n",
      "arrival_date_month__July:                int64             [1, 1, 1, 1,  ...\n",
      "arrival_date_month__June:                int64             [0, 0, 0, 0,  ...\n",
      "arrival_date_month__March:               int64             [0, 0, 0, 0,  ...\n",
      "arrival_date_month__May:                 int64             [0, 0, 0, 0,  ...\n",
      "arrival_date_month__November:            int64             [0, 0, 0, 0,  ...\n",
      "arrival_date_month__October:             int64             [0, 0, 0, 0,  ...\n",
      "arrival_date_month__September:           int64             [0, 0, 0, 0,  ...\n",
      "meal__-OTHER:                            int64             [0, 0, 0, 0,  ...\n",
      "meal__BB:                                int64             [1, 1, 1, 1,  ...\n",
      "meal__HB:                                int64             [0, 0, 0, 0,  ...\n",
      "meal__SC:                                int64             [0, 0, 0, 0,  ...\n",
      "country__-OTHER:                         int64             [0, 0, 0, 0,  ...\n",
      "country__AUT:                            int64             [0, 0, 0, 0,  ...\n",
      "country__BEL:                            int64             [0, 0, 0, 0,  ...\n",
      "country__BRA:                            int64             [0, 0, 0, 0,  ...\n",
      "country__CHE:                            int64             [0, 0, 0, 0,  ...\n",
      "country__CN:                             int64             [0, 0, 0, 0,  ...\n",
      "country__DEU:                            int64             [0, 0, 0, 0,  ...\n",
      "country__ESP:                            int64             [0, 0, 0, 0,  ...\n",
      "country__FRA:                            int64             [0, 0, 0, 0,  ...\n",
      "country__GBR:                            int64             [0, 0, 1, 1,  ...\n",
      "country__IRL:                            int64             [0, 0, 0, 0,  ...\n",
      "country__ITA:                            int64             [0, 0, 0, 0,  ...\n",
      "country__NLD:                            int64             [0, 0, 0, 0,  ...\n",
      "country__PRT:                            int64             [1, 1, 0, 0,  ...\n",
      "country__USA:                            int64             [0, 0, 0, 0,  ...\n",
      "market_segment__-OTHER:                  int64             [0, 0, 0, 0,  ...\n",
      "market_segment__Corporate:               int64             [0, 0, 0, 1,  ...\n",
      "market_segment__Direct:                  int64             [1, 1, 1, 0,  ...\n",
      "market_segment__Groups:                  int64             [0, 0, 0, 0,  ...\n",
      "market_segment__Offline TA/TO:           int64             [0, 0, 0, 0,  ...\n",
      "market_segment__Online TA:               int64             [0, 0, 0, 0,  ...\n",
      "distribution_channel__-OTHER:            int64             [0, 0, 0, 0,  ...\n",
      "distribution_channel__Corporate:         int64             [0, 0, 0, 1,  ...\n",
      "distribution_channel__Direct:            int64             [1, 1, 1, 0,  ...\n",
      "distribution_channel__TA/TO:             int64             [0, 0, 0, 0,  ...\n",
      "is_repeated_guest__0:                    int64             [1, 1, 1, 1,  ...\n",
      "is_repeated_guest__1:                    int64             [0, 0, 0, 0,  ...\n",
      "previous_cancellations__0:               int64             [1, 1, 1, 1,  ...\n",
      "previous_cancellations__1:               int64             [0, 0, 0, 0,  ...\n",
      "previous_cancellations__-OTHER:          int64             [0, 0, 0, 0,  ...\n",
      "previous_bookings_not_canceled__0:       int64             [1, 1, 1, 1,  ...\n",
      "previous_bookings_not_canceled__1:       int64             [0, 0, 0, 0,  ...\n",
      "previous_bookings_not_canceled__-OTHER:  int64             [0, 0, 0, 0,  ...\n",
      "booking_changes__0:                      int64             [0, 0, 1, 1,  ...\n",
      "booking_changes__1:                      int64             [0, 0, 0, 0,  ...\n",
      "booking_changes__2:                      int64             [0, 0, 0, 0,  ...\n",
      "booking_changes__-OTHER:                 int64             [1, 1, 0, 0,  ...\n",
      "deposit_type__-OTHER:                    int64             [0, 0, 0, 0,  ...\n",
      "deposit_type__No Deposit:                int64             [1, 1, 1, 1,  ...\n",
      "deposit_type__Non Refund:                int64             [0, 0, 0, 0,  ...\n",
      "days_in_waiting_list__0:                 int64             [1, 1, 1, 1,  ...\n",
      "days_in_waiting_list__-OTHER:            int64             [0, 0, 0, 0,  ...\n",
      "customer_type__-OTHER:                   int64             [0, 0, 0, 0,  ...\n",
      "customer_type__Contract:                 int64             [0, 0, 0, 0,  ...\n",
      "customer_type__Transient:                int64             [1, 1, 1, 1,  ...\n",
      "customer_type__Transient-Party:          int64             [0, 0, 0, 0,  ...\n",
      "required_car_parking_spaces__0:          int64             [1, 1, 1, 1,  ...\n",
      "required_car_parking_spaces__1:          int64             [0, 0, 0, 0,  ...\n",
      "required_car_parking_spaces__-OTHER:     int64             [0, 0, 0, 0,  ...\n",
      "total_of_special_requests__0:            int64             [1, 1, 1, 1,  ...\n",
      "total_of_special_requests__1:            int64             [0, 0, 0, 0,  ...\n",
      "total_of_special_requests__2:            int64             [0, 0, 0, 0,  ...\n",
      "total_of_special_requests__3:            int64             [0, 0, 0, 0,  ...\n",
      "total_of_special_requests__-OTHER:       int64             [0, 0, 0, 0,  ...\n",
      "reservation_status__Canceled:            int64             [0, 0, 0, 0,  ...\n",
      "reservation_status__Check-Out:           int64             [1, 1, 1, 1,  ...\n",
      "reservation_status__No-Show:             int64             [0, 0, 0, 0,  ...\n",
      "reservation_status_date__-OTHER:         int64             [1, 1, 1, 1,  ...\n",
      "reservation_status_date__2015-10-21:     int64             [0, 0, 0, 0,  ...\n",
      "diffrent_room_assigned__0:               int64             [1, 1, 0, 1,  ...\n",
      "diffrent_room_assigned__1:               int64             [0, 0, 1, 0,  ...\n"
     ]
    }
   ],
   "source": [
    "df_binarize.glimpse()"
   ]
  },
  {
   "cell_type": "code",
   "execution_count": 65,
   "metadata": {},
   "outputs": [
    {
     "data": {
      "text/html": [
       "<div>\n",
       "<style scoped>\n",
       "    .dataframe tbody tr th:only-of-type {\n",
       "        vertical-align: middle;\n",
       "    }\n",
       "\n",
       "    .dataframe tbody tr th {\n",
       "        vertical-align: top;\n",
       "    }\n",
       "\n",
       "    .dataframe thead th {\n",
       "        text-align: right;\n",
       "    }\n",
       "</style>\n",
       "<table border=\"1\" class=\"dataframe\">\n",
       "  <thead>\n",
       "    <tr style=\"text-align: right;\">\n",
       "      <th></th>\n",
       "      <th>feature</th>\n",
       "      <th>bin</th>\n",
       "      <th>correlation</th>\n",
       "    </tr>\n",
       "  </thead>\n",
       "  <tbody>\n",
       "    <tr>\n",
       "      <th>25</th>\n",
       "      <td>is_canceled</td>\n",
       "      <td>1</td>\n",
       "      <td>1.000000</td>\n",
       "    </tr>\n",
       "    <tr>\n",
       "      <th>24</th>\n",
       "      <td>is_canceled</td>\n",
       "      <td>0</td>\n",
       "      <td>-1.000000</td>\n",
       "    </tr>\n",
       "    <tr>\n",
       "      <th>100</th>\n",
       "      <td>reservation_status</td>\n",
       "      <td>Check-Out</td>\n",
       "      <td>-1.000000</td>\n",
       "    </tr>\n",
       "    <tr>\n",
       "      <th>99</th>\n",
       "      <td>reservation_status</td>\n",
       "      <td>Canceled</td>\n",
       "      <td>0.978433</td>\n",
       "    </tr>\n",
       "    <tr>\n",
       "      <th>84</th>\n",
       "      <td>deposit_type</td>\n",
       "      <td>Non Refund</td>\n",
       "      <td>0.481488</td>\n",
       "    </tr>\n",
       "    <tr>\n",
       "      <th>83</th>\n",
       "      <td>deposit_type</td>\n",
       "      <td>No Deposit</td>\n",
       "      <td>-0.477942</td>\n",
       "    </tr>\n",
       "    <tr>\n",
       "      <th>58</th>\n",
       "      <td>country</td>\n",
       "      <td>PRT</td>\n",
       "      <td>0.331560</td>\n",
       "    </tr>\n",
       "    <tr>\n",
       "      <th>73</th>\n",
       "      <td>previous_cancellations</td>\n",
       "      <td>1</td>\n",
       "      <td>0.274606</td>\n",
       "    </tr>\n",
       "    <tr>\n",
       "      <th>72</th>\n",
       "      <td>previous_cancellations</td>\n",
       "      <td>0</td>\n",
       "      <td>-0.270962</td>\n",
       "    </tr>\n",
       "    <tr>\n",
       "      <th>0</th>\n",
       "      <td>lead_time</td>\n",
       "      <td>0.0_18.0</td>\n",
       "      <td>-0.270429</td>\n",
       "    </tr>\n",
       "  </tbody>\n",
       "</table>\n",
       "</div>"
      ],
      "text/plain": [
       "                    feature         bin  correlation\n",
       "25              is_canceled           1     1.000000\n",
       "24              is_canceled           0    -1.000000\n",
       "100      reservation_status   Check-Out    -1.000000\n",
       "99       reservation_status    Canceled     0.978433\n",
       "84             deposit_type  Non Refund     0.481488\n",
       "83             deposit_type  No Deposit    -0.477942\n",
       "58                  country         PRT     0.331560\n",
       "73   previous_cancellations           1     0.274606\n",
       "72   previous_cancellations           0    -0.270962\n",
       "0                 lead_time    0.0_18.0    -0.270429"
      ]
     },
     "execution_count": 65,
     "metadata": {},
     "output_type": "execute_result"
    }
   ],
   "source": [
    "df_corr = df_binarize.correlate(target='is_canceled__1')\n",
    "df_corr.head(10)"
   ]
  },
  {
   "cell_type": "code",
   "execution_count": 66,
   "metadata": {},
   "outputs": [
    {
     "data": {
      "application/vnd.plotly.v1+json": {
       "config": {
        "plotlyServerURL": "https://plot.ly"
       },
       "data": [
        {
         "customdata": [
          [
           "1"
          ],
          [
           "0"
          ],
          [
           "Check-Out"
          ],
          [
           "Canceled"
          ],
          [
           "Non Refund"
          ],
          [
           "No Deposit"
          ],
          [
           "PRT"
          ],
          [
           "1"
          ],
          [
           "0"
          ],
          [
           "0.0_18.0"
          ],
          [
           "0"
          ],
          [
           "1"
          ],
          [
           "0"
          ],
          [
           "Groups"
          ],
          [
           "160.0_737.0"
          ],
          [
           "0"
          ],
          [
           "1"
          ],
          [
           "1"
          ],
          [
           "0"
          ],
          [
           "TA/TO"
          ],
          [
           "1"
          ],
          [
           "Direct"
          ],
          [
           "Direct"
          ],
          [
           "Resort Hotel"
          ],
          [
           "City Hotel"
          ],
          [
           "Transient"
          ],
          [
           "No-Show"
          ],
          [
           "-OTHER"
          ],
          [
           "2015-10-21"
          ],
          [
           "Transient-Party"
          ],
          [
           "FRA"
          ],
          [
           "GBR"
          ],
          [
           "0"
          ],
          [
           "2"
          ],
          [
           "DEU"
          ],
          [
           "-OTHER"
          ],
          [
           "0"
          ],
          [
           "-OTHER"
          ],
          [
           "0"
          ],
          [
           "1"
          ],
          [
           "Corporate"
          ],
          [
           "1"
          ],
          [
           "Corporate"
          ],
          [
           "ESP"
          ],
          [
           "69.0_160.0"
          ],
          [
           "2"
          ],
          [
           "3"
          ],
          [
           "2.0_3.0"
          ],
          [
           "NLD"
          ],
          [
           "BEL"
          ],
          [
           "-OTHER"
          ],
          [
           "-OTHER"
          ],
          [
           "IRL"
          ],
          [
           "-6.4_69.3"
          ],
          [
           "-OTHER"
          ],
          [
           "AUT"
          ],
          [
           "16.0_28.0"
          ],
          [
           "-OTHER"
          ],
          [
           "1.0_16.0"
          ],
          [
           "CN"
          ],
          [
           "USA"
          ],
          [
           "-OTHER"
          ],
          [
           "January"
          ],
          [
           "CHE"
          ],
          [
           "March"
          ],
          [
           "November"
          ],
          [
           "June"
          ],
          [
           "0.0_2.0"
          ],
          [
           "Offline TA/TO"
          ],
          [
           "94.6_126.0"
          ],
          [
           "April"
          ],
          [
           "2017"
          ],
          [
           "Contract"
          ],
          [
           "2016"
          ],
          [
           "February"
          ],
          [
           "HB"
          ],
          [
           "-OTHER"
          ],
          [
           "126.0_5400.0"
          ],
          [
           "May"
          ],
          [
           "4.0_69.0"
          ],
          [
           "0.0_2.0"
          ],
          [
           "2.0_55.0"
          ],
          [
           "-OTHER"
          ],
          [
           "18.0_69.0"
          ],
          [
           "38.0_53.0"
          ],
          [
           "September"
          ],
          [
           "BB"
          ],
          [
           "-OTHER"
          ],
          [
           "28.0_38.0"
          ],
          [
           "-OTHER"
          ],
          [
           "1.0_8.0"
          ],
          [
           "December"
          ],
          [
           "16.0_23.0"
          ],
          [
           "October"
          ],
          [
           "Online TA"
          ],
          [
           "ITA"
          ],
          [
           "August"
          ],
          [
           "-OTHER"
          ],
          [
           "3.0_4.0"
          ],
          [
           "8.0_16.0"
          ],
          [
           "July"
          ],
          [
           "69.3_94.6"
          ],
          [
           "SC"
          ],
          [
           "BRA"
          ],
          [
           "23.0_31.0"
          ],
          [
           "2015"
          ]
         ],
         "hoverlabel": {
          "font": {
           "size": 8.8
          }
         },
         "hovertemplate": "correlation=%{x:.3f}<br>feature=%{y}<br>bin=%{customdata[0]}<extra></extra>",
         "legendgroup": "",
         "marker": {
          "color": "#2c3e50",
          "opacity": 1,
          "symbol": "circle"
         },
         "mode": "markers",
         "name": "",
         "orientation": "h",
         "showlegend": false,
         "text": [
          "1",
          "0",
          "Check-Out",
          "Canceled",
          "Non Refund",
          "No Deposit",
          "PRT",
          "1",
          "0",
          "0.0_18.0",
          "0",
          "1",
          "0",
          "Groups",
          "160.0_737.0",
          "0",
          "1",
          "1",
          "0",
          "TA/TO",
          "1",
          "Direct",
          "Direct",
          "Resort Hotel",
          "City Hotel",
          "Transient",
          "No-Show",
          "-OTHER",
          "2015-10-21",
          "Transient-Party",
          "FRA",
          "GBR",
          "0",
          "2",
          "DEU",
          "-OTHER",
          "0",
          "-OTHER",
          "0",
          "1",
          "Corporate",
          "1",
          "Corporate",
          "ESP",
          "69.0_160.0",
          "2",
          "3",
          "2.0_3.0",
          "NLD",
          "BEL",
          "-OTHER",
          "-OTHER",
          "IRL",
          "-6.4_69.3",
          "-OTHER",
          "AUT",
          "16.0_28.0",
          "-OTHER",
          "1.0_16.0",
          "CN",
          "USA",
          "-OTHER",
          "January",
          "CHE",
          "March",
          "November",
          "June",
          "0.0_2.0",
          "Offline TA/TO",
          "94.6_126.0",
          "April",
          "2017",
          "Contract",
          "2016",
          "February",
          "HB",
          "-OTHER",
          "126.0_5400.0",
          "May",
          "4.0_69.0",
          "0.0_2.0",
          "2.0_55.0",
          "-OTHER",
          "18.0_69.0",
          "38.0_53.0",
          "September",
          "BB",
          "-OTHER",
          "28.0_38.0",
          "-OTHER",
          "1.0_8.0",
          "December",
          "16.0_23.0",
          "October",
          "Online TA",
          "ITA",
          "August",
          "-OTHER",
          "3.0_4.0",
          "8.0_16.0",
          "July",
          "69.3_94.6",
          "SC",
          "BRA",
          "23.0_31.0",
          "2015"
         ],
         "type": "scatter",
         "x": [
          0.9999999999999999,
          -0.9999999999999998,
          -0.9999999999999998,
          0.9784334519988882,
          0.4814881216828629,
          -0.4779417636006063,
          0.33155998919069746,
          0.2746058722552033,
          -0.2709618334618548,
          -0.27042864609632933,
          0.2647723839528652,
          -0.24776149234597197,
          0.24776149234597192,
          0.22188598417524888,
          0.21985637357453341,
          0.19739341961590956,
          -0.1969247286951862,
          -0.19315665265682008,
          0.18689508513508396,
          0.17605597842385345,
          -0.16299321436888803,
          -0.15442023824021842,
          -0.15160873813022444,
          -0.1365052708367957,
          0.1365052708367957,
          0.13317013575828832,
          0.13176037747675037,
          -0.1312355983784998,
          0.13123559837849968,
          -0.12423063937286451,
          -0.11824365662939937,
          -0.11709454166778267,
          0.11540102562808151,
          -0.10804554313750103,
          -0.1073083624607674,
          0.0990431202071009,
          -0.09904312020710072,
          -0.08603556965499809,
          0.08478794875543133,
          -0.0847879487554313,
          -0.08165957155559361,
          -0.07560218218964855,
          -0.07541969114895847,
          -0.06697084365367653,
          0.06593479790467806,
          -0.0635276157967919,
          -0.05804449067240872,
          0.054765521213176405,
          -0.05171610121279055,
          -0.04921210966622809,
          -0.048954198608050094,
          -0.04421501602579362,
          -0.043753231960416916,
          -0.043275499679987145,
          -0.04113593643336449,
          -0.04031743691450593,
          0.040268103485669095,
          -0.038695605390116204,
          -0.03854980926244684,
          -0.03702203963894764,
          -0.03640589352842333,
          -0.031640230709418966,
          -0.03106405279231235,
          -0.030884567904990886,
          -0.030253967331003797,
          -0.029534196020192364,
          0.029053932571872935,
          -0.028960567769826844,
          -0.02845072740453486,
          0.02588805026725574,
          0.024899443640719287,
          0.024691729307702588,
          -0.023662614312774437,
          -0.023167531334271883,
          -0.02020079054997258,
          -0.01982930185774386,
          0.01951055658536657,
          0.018863803993684012,
          0.018003690758554763,
          -0.017733923260466147,
          0.01739023948466619,
          -0.017390239484666187,
          -0.015010485752802604,
          -0.013978135123954632,
          -0.013773303234502089,
          0.013706696061854137,
          0.013100731840854394,
          -0.012753780827026825,
          0.011526833997426848,
          -0.011310399662664642,
          0.010752735042827593,
          -0.010513117926246297,
          -0.007958736813553554,
          0.00669671628850814,
          -0.006268608417191473,
          -0.006143635133143466,
          0.005223437595408328,
          0.004827983168228653,
          -0.003962683585749917,
          -0.003873338621578591,
          0.0029533656635973727,
          -0.0015135778083186116,
          0.0012956055249835076,
          0.000800633383557241,
          0.0007759631655680832,
          -0.000345915459997844
         ],
         "xaxis": "x",
         "y": [
          "is_canceled",
          "is_canceled",
          "reservation_status",
          "reservation_status",
          "deposit_type",
          "deposit_type",
          "country",
          "previous_cancellations",
          "previous_cancellations",
          "lead_time",
          "total_of_special_requests",
          "diffrent_room_assigned",
          "diffrent_room_assigned",
          "market_segment",
          "lead_time",
          "required_car_parking_spaces",
          "required_car_parking_spaces",
          "total_of_special_requests",
          "booking_changes",
          "distribution_channel",
          "booking_changes",
          "market_segment",
          "distribution_channel",
          "hotel",
          "hotel",
          "customer_type",
          "reservation_status",
          "reservation_status_date",
          "reservation_status_date",
          "customer_type",
          "country",
          "country",
          "previous_bookings_not_canceled",
          "total_of_special_requests",
          "country",
          "days_in_waiting_list",
          "days_in_waiting_list",
          "previous_bookings_not_canceled",
          "is_repeated_guest",
          "is_repeated_guest",
          "market_segment",
          "previous_bookings_not_canceled",
          "distribution_channel",
          "country",
          "lead_time",
          "booking_changes",
          "total_of_special_requests",
          "total_stay",
          "country",
          "country",
          "booking_changes",
          "country",
          "country",
          "adr",
          "market_segment",
          "country",
          "arrival_date_week_number",
          "customer_type",
          "arrival_date_week_number",
          "country",
          "country",
          "total_of_special_requests",
          "arrival_date_month",
          "country",
          "arrival_date_month",
          "arrival_date_month",
          "arrival_date_month",
          "total_stay",
          "market_segment",
          "adr",
          "arrival_date_month",
          "arrival_date_year",
          "customer_type",
          "arrival_date_year",
          "arrival_date_month",
          "meal",
          "previous_cancellations",
          "adr",
          "arrival_date_month",
          "total_stay",
          "total_guests",
          "total_guests",
          "distribution_channel",
          "lead_time",
          "arrival_date_week_number",
          "arrival_date_month",
          "meal",
          "required_car_parking_spaces",
          "arrival_date_week_number",
          "deposit_type",
          "arrival_date_day_of_month",
          "arrival_date_month",
          "arrival_date_day_of_month",
          "arrival_date_month",
          "market_segment",
          "country",
          "arrival_date_month",
          "meal",
          "total_stay",
          "arrival_date_day_of_month",
          "arrival_date_month",
          "adr",
          "meal",
          "country",
          "arrival_date_day_of_month",
          "arrival_date_year"
         ],
         "yaxis": "y"
        }
       ],
       "layout": {
        "autosize": true,
        "font": {
         "size": 11
        },
        "legend": {
         "font": {
          "size": 8.8
         },
         "title": {
          "font": {
           "size": 8.8
          }
         },
         "tracegroupgap": 0
        },
        "margin": {
         "b": 40,
         "l": 10,
         "r": 10,
         "t": 40
        },
        "showlegend": false,
        "template": {
         "data": {
          "bar": [
           {
            "error_x": {
             "color": "#2a3f5f"
            },
            "error_y": {
             "color": "#2a3f5f"
            },
            "marker": {
             "line": {
              "color": "white",
              "width": 0.5
             },
             "pattern": {
              "fillmode": "overlay",
              "size": 10,
              "solidity": 0.2
             }
            },
            "type": "bar"
           }
          ],
          "barpolar": [
           {
            "marker": {
             "line": {
              "color": "white",
              "width": 0.5
             },
             "pattern": {
              "fillmode": "overlay",
              "size": 10,
              "solidity": 0.2
             }
            },
            "type": "barpolar"
           }
          ],
          "carpet": [
           {
            "aaxis": {
             "endlinecolor": "#2a3f5f",
             "gridcolor": "#C8D4E3",
             "linecolor": "#C8D4E3",
             "minorgridcolor": "#C8D4E3",
             "startlinecolor": "#2a3f5f"
            },
            "baxis": {
             "endlinecolor": "#2a3f5f",
             "gridcolor": "#C8D4E3",
             "linecolor": "#C8D4E3",
             "minorgridcolor": "#C8D4E3",
             "startlinecolor": "#2a3f5f"
            },
            "type": "carpet"
           }
          ],
          "choropleth": [
           {
            "colorbar": {
             "outlinewidth": 0,
             "ticks": ""
            },
            "type": "choropleth"
           }
          ],
          "contour": [
           {
            "colorbar": {
             "outlinewidth": 0,
             "ticks": ""
            },
            "colorscale": [
             [
              0,
              "#0d0887"
             ],
             [
              0.1111111111111111,
              "#46039f"
             ],
             [
              0.2222222222222222,
              "#7201a8"
             ],
             [
              0.3333333333333333,
              "#9c179e"
             ],
             [
              0.4444444444444444,
              "#bd3786"
             ],
             [
              0.5555555555555556,
              "#d8576b"
             ],
             [
              0.6666666666666666,
              "#ed7953"
             ],
             [
              0.7777777777777778,
              "#fb9f3a"
             ],
             [
              0.8888888888888888,
              "#fdca26"
             ],
             [
              1,
              "#f0f921"
             ]
            ],
            "type": "contour"
           }
          ],
          "contourcarpet": [
           {
            "colorbar": {
             "outlinewidth": 0,
             "ticks": ""
            },
            "type": "contourcarpet"
           }
          ],
          "heatmap": [
           {
            "colorbar": {
             "outlinewidth": 0,
             "ticks": ""
            },
            "colorscale": [
             [
              0,
              "#0d0887"
             ],
             [
              0.1111111111111111,
              "#46039f"
             ],
             [
              0.2222222222222222,
              "#7201a8"
             ],
             [
              0.3333333333333333,
              "#9c179e"
             ],
             [
              0.4444444444444444,
              "#bd3786"
             ],
             [
              0.5555555555555556,
              "#d8576b"
             ],
             [
              0.6666666666666666,
              "#ed7953"
             ],
             [
              0.7777777777777778,
              "#fb9f3a"
             ],
             [
              0.8888888888888888,
              "#fdca26"
             ],
             [
              1,
              "#f0f921"
             ]
            ],
            "type": "heatmap"
           }
          ],
          "heatmapgl": [
           {
            "colorbar": {
             "outlinewidth": 0,
             "ticks": ""
            },
            "colorscale": [
             [
              0,
              "#0d0887"
             ],
             [
              0.1111111111111111,
              "#46039f"
             ],
             [
              0.2222222222222222,
              "#7201a8"
             ],
             [
              0.3333333333333333,
              "#9c179e"
             ],
             [
              0.4444444444444444,
              "#bd3786"
             ],
             [
              0.5555555555555556,
              "#d8576b"
             ],
             [
              0.6666666666666666,
              "#ed7953"
             ],
             [
              0.7777777777777778,
              "#fb9f3a"
             ],
             [
              0.8888888888888888,
              "#fdca26"
             ],
             [
              1,
              "#f0f921"
             ]
            ],
            "type": "heatmapgl"
           }
          ],
          "histogram": [
           {
            "marker": {
             "pattern": {
              "fillmode": "overlay",
              "size": 10,
              "solidity": 0.2
             }
            },
            "type": "histogram"
           }
          ],
          "histogram2d": [
           {
            "colorbar": {
             "outlinewidth": 0,
             "ticks": ""
            },
            "colorscale": [
             [
              0,
              "#0d0887"
             ],
             [
              0.1111111111111111,
              "#46039f"
             ],
             [
              0.2222222222222222,
              "#7201a8"
             ],
             [
              0.3333333333333333,
              "#9c179e"
             ],
             [
              0.4444444444444444,
              "#bd3786"
             ],
             [
              0.5555555555555556,
              "#d8576b"
             ],
             [
              0.6666666666666666,
              "#ed7953"
             ],
             [
              0.7777777777777778,
              "#fb9f3a"
             ],
             [
              0.8888888888888888,
              "#fdca26"
             ],
             [
              1,
              "#f0f921"
             ]
            ],
            "type": "histogram2d"
           }
          ],
          "histogram2dcontour": [
           {
            "colorbar": {
             "outlinewidth": 0,
             "ticks": ""
            },
            "colorscale": [
             [
              0,
              "#0d0887"
             ],
             [
              0.1111111111111111,
              "#46039f"
             ],
             [
              0.2222222222222222,
              "#7201a8"
             ],
             [
              0.3333333333333333,
              "#9c179e"
             ],
             [
              0.4444444444444444,
              "#bd3786"
             ],
             [
              0.5555555555555556,
              "#d8576b"
             ],
             [
              0.6666666666666666,
              "#ed7953"
             ],
             [
              0.7777777777777778,
              "#fb9f3a"
             ],
             [
              0.8888888888888888,
              "#fdca26"
             ],
             [
              1,
              "#f0f921"
             ]
            ],
            "type": "histogram2dcontour"
           }
          ],
          "mesh3d": [
           {
            "colorbar": {
             "outlinewidth": 0,
             "ticks": ""
            },
            "type": "mesh3d"
           }
          ],
          "parcoords": [
           {
            "line": {
             "colorbar": {
              "outlinewidth": 0,
              "ticks": ""
             }
            },
            "type": "parcoords"
           }
          ],
          "pie": [
           {
            "automargin": true,
            "type": "pie"
           }
          ],
          "scatter": [
           {
            "fillpattern": {
             "fillmode": "overlay",
             "size": 10,
             "solidity": 0.2
            },
            "type": "scatter"
           }
          ],
          "scatter3d": [
           {
            "line": {
             "colorbar": {
              "outlinewidth": 0,
              "ticks": ""
             }
            },
            "marker": {
             "colorbar": {
              "outlinewidth": 0,
              "ticks": ""
             }
            },
            "type": "scatter3d"
           }
          ],
          "scattercarpet": [
           {
            "marker": {
             "colorbar": {
              "outlinewidth": 0,
              "ticks": ""
             }
            },
            "type": "scattercarpet"
           }
          ],
          "scattergeo": [
           {
            "marker": {
             "colorbar": {
              "outlinewidth": 0,
              "ticks": ""
             }
            },
            "type": "scattergeo"
           }
          ],
          "scattergl": [
           {
            "marker": {
             "colorbar": {
              "outlinewidth": 0,
              "ticks": ""
             }
            },
            "type": "scattergl"
           }
          ],
          "scattermapbox": [
           {
            "marker": {
             "colorbar": {
              "outlinewidth": 0,
              "ticks": ""
             }
            },
            "type": "scattermapbox"
           }
          ],
          "scatterpolar": [
           {
            "marker": {
             "colorbar": {
              "outlinewidth": 0,
              "ticks": ""
             }
            },
            "type": "scatterpolar"
           }
          ],
          "scatterpolargl": [
           {
            "marker": {
             "colorbar": {
              "outlinewidth": 0,
              "ticks": ""
             }
            },
            "type": "scatterpolargl"
           }
          ],
          "scatterternary": [
           {
            "marker": {
             "colorbar": {
              "outlinewidth": 0,
              "ticks": ""
             }
            },
            "type": "scatterternary"
           }
          ],
          "surface": [
           {
            "colorbar": {
             "outlinewidth": 0,
             "ticks": ""
            },
            "colorscale": [
             [
              0,
              "#0d0887"
             ],
             [
              0.1111111111111111,
              "#46039f"
             ],
             [
              0.2222222222222222,
              "#7201a8"
             ],
             [
              0.3333333333333333,
              "#9c179e"
             ],
             [
              0.4444444444444444,
              "#bd3786"
             ],
             [
              0.5555555555555556,
              "#d8576b"
             ],
             [
              0.6666666666666666,
              "#ed7953"
             ],
             [
              0.7777777777777778,
              "#fb9f3a"
             ],
             [
              0.8888888888888888,
              "#fdca26"
             ],
             [
              1,
              "#f0f921"
             ]
            ],
            "type": "surface"
           }
          ],
          "table": [
           {
            "cells": {
             "fill": {
              "color": "#EBF0F8"
             },
             "line": {
              "color": "white"
             }
            },
            "header": {
             "fill": {
              "color": "#C8D4E3"
             },
             "line": {
              "color": "white"
             }
            },
            "type": "table"
           }
          ]
         },
         "layout": {
          "annotationdefaults": {
           "arrowcolor": "#2a3f5f",
           "arrowhead": 0,
           "arrowwidth": 1
          },
          "autotypenumbers": "strict",
          "coloraxis": {
           "colorbar": {
            "outlinewidth": 0,
            "ticks": ""
           }
          },
          "colorscale": {
           "diverging": [
            [
             0,
             "#8e0152"
            ],
            [
             0.1,
             "#c51b7d"
            ],
            [
             0.2,
             "#de77ae"
            ],
            [
             0.3,
             "#f1b6da"
            ],
            [
             0.4,
             "#fde0ef"
            ],
            [
             0.5,
             "#f7f7f7"
            ],
            [
             0.6,
             "#e6f5d0"
            ],
            [
             0.7,
             "#b8e186"
            ],
            [
             0.8,
             "#7fbc41"
            ],
            [
             0.9,
             "#4d9221"
            ],
            [
             1,
             "#276419"
            ]
           ],
           "sequential": [
            [
             0,
             "#0d0887"
            ],
            [
             0.1111111111111111,
             "#46039f"
            ],
            [
             0.2222222222222222,
             "#7201a8"
            ],
            [
             0.3333333333333333,
             "#9c179e"
            ],
            [
             0.4444444444444444,
             "#bd3786"
            ],
            [
             0.5555555555555556,
             "#d8576b"
            ],
            [
             0.6666666666666666,
             "#ed7953"
            ],
            [
             0.7777777777777778,
             "#fb9f3a"
            ],
            [
             0.8888888888888888,
             "#fdca26"
            ],
            [
             1,
             "#f0f921"
            ]
           ],
           "sequentialminus": [
            [
             0,
             "#0d0887"
            ],
            [
             0.1111111111111111,
             "#46039f"
            ],
            [
             0.2222222222222222,
             "#7201a8"
            ],
            [
             0.3333333333333333,
             "#9c179e"
            ],
            [
             0.4444444444444444,
             "#bd3786"
            ],
            [
             0.5555555555555556,
             "#d8576b"
            ],
            [
             0.6666666666666666,
             "#ed7953"
            ],
            [
             0.7777777777777778,
             "#fb9f3a"
            ],
            [
             0.8888888888888888,
             "#fdca26"
            ],
            [
             1,
             "#f0f921"
            ]
           ]
          },
          "colorway": [
           "#636efa",
           "#EF553B",
           "#00cc96",
           "#ab63fa",
           "#FFA15A",
           "#19d3f3",
           "#FF6692",
           "#B6E880",
           "#FF97FF",
           "#FECB52"
          ],
          "font": {
           "color": "#2a3f5f"
          },
          "geo": {
           "bgcolor": "white",
           "lakecolor": "white",
           "landcolor": "white",
           "showlakes": true,
           "showland": true,
           "subunitcolor": "#C8D4E3"
          },
          "hoverlabel": {
           "align": "left"
          },
          "hovermode": "closest",
          "mapbox": {
           "style": "light"
          },
          "paper_bgcolor": "white",
          "plot_bgcolor": "white",
          "polar": {
           "angularaxis": {
            "gridcolor": "#EBF0F8",
            "linecolor": "#EBF0F8",
            "ticks": ""
           },
           "bgcolor": "white",
           "radialaxis": {
            "gridcolor": "#EBF0F8",
            "linecolor": "#EBF0F8",
            "ticks": ""
           }
          },
          "scene": {
           "xaxis": {
            "backgroundcolor": "white",
            "gridcolor": "#DFE8F3",
            "gridwidth": 2,
            "linecolor": "#EBF0F8",
            "showbackground": true,
            "ticks": "",
            "zerolinecolor": "#EBF0F8"
           },
           "yaxis": {
            "backgroundcolor": "white",
            "gridcolor": "#DFE8F3",
            "gridwidth": 2,
            "linecolor": "#EBF0F8",
            "showbackground": true,
            "ticks": "",
            "zerolinecolor": "#EBF0F8"
           },
           "zaxis": {
            "backgroundcolor": "white",
            "gridcolor": "#DFE8F3",
            "gridwidth": 2,
            "linecolor": "#EBF0F8",
            "showbackground": true,
            "ticks": "",
            "zerolinecolor": "#EBF0F8"
           }
          },
          "shapedefaults": {
           "line": {
            "color": "#2a3f5f"
           }
          },
          "ternary": {
           "aaxis": {
            "gridcolor": "#DFE8F3",
            "linecolor": "#A2B1C6",
            "ticks": ""
           },
           "baxis": {
            "gridcolor": "#DFE8F3",
            "linecolor": "#A2B1C6",
            "ticks": ""
           },
           "bgcolor": "white",
           "caxis": {
            "gridcolor": "#DFE8F3",
            "linecolor": "#A2B1C6",
            "ticks": ""
           }
          },
          "title": {
           "x": 0.05
          },
          "xaxis": {
           "automargin": true,
           "gridcolor": "#EBF0F8",
           "linecolor": "#EBF0F8",
           "ticks": "",
           "title": {
            "standoff": 15
           },
           "zerolinecolor": "#EBF0F8",
           "zerolinewidth": 2
          },
          "yaxis": {
           "automargin": true,
           "gridcolor": "#EBF0F8",
           "linecolor": "#EBF0F8",
           "ticks": "",
           "title": {
            "standoff": 15
           },
           "zerolinecolor": "#EBF0F8",
           "zerolinewidth": 2
          }
         }
        },
        "title": {
         "font": {
          "size": 13.2
         },
         "text": "Correlation Funnel Plot"
        },
        "xaxis": {
         "anchor": "y",
         "domain": [
          0,
          1
         ],
         "range": [
          -1,
          1
         ],
         "showticklabels": true,
         "tickfont": {
          "size": 8.8
         },
         "title": {
          "text": "Correlation"
         },
         "visible": true
        },
        "yaxis": {
         "anchor": "x",
         "autorange": "reversed",
         "domain": [
          0,
          1
         ],
         "tickfont": {
          "size": 8.8
         },
         "title": {
          "text": "Feature"
         }
        }
       }
      }
     },
     "metadata": {},
     "output_type": "display_data"
    }
   ],
   "source": [
    "#visualize the correlation\n",
    "df_corr.plot_correlation_funnel()"
   ]
  },
  {
   "cell_type": "code",
   "execution_count": 70,
   "metadata": {},
   "outputs": [],
   "source": [
    "#subset features\n",
    "df_subset = df.drop(columns=['reservation_status'])\n",
    "\n",
    "#selecting specific columns\n",
    "df_subset = df[['is_canceled','deposit_type','country','previous_cancellations','lead_time','total_of_special_requests','diffrent_room_assigned',\\\n",
    "                'market_segment','required_car_parking_spaces','distribution_channel','hotel','customer_type','previous_bookings_not_canceled',\\\n",
    "                'is_repeated_guest']]"
   ]
  },
  {
   "cell_type": "code",
   "execution_count": 71,
   "metadata": {},
   "outputs": [],
   "source": [
    "#creating new columns based on 'country' column\n",
    "df_subset['country_PRT'] = np.where(df_subset['country'] == 'PRT', 1, 0)\n",
    "df_subset['country_other'] = np.where(df_subset['country'] != 'PRT', 1, 0)\n",
    "\n",
    "#drop original column\n",
    "df_subset = df_subset.drop(columns=['country'])\n",
    "\n"
   ]
  },
  {
   "cell_type": "code",
   "execution_count": 73,
   "metadata": {},
   "outputs": [
    {
     "name": "stdout",
     "output_type": "stream",
     "text": [
      "<class 'pandas.core.frame.DataFrame'>: 119386 rows of 15 columns\n",
      "is_canceled:                     int64             [0, 0, 0, 0, 0, 0, 0, ...\n",
      "deposit_type:                    object            ['No Deposit', 'No De ...\n",
      "previous_cancellations:          int64             [0, 0, 0, 0, 0, 0, 0, ...\n",
      "lead_time:                       int64             [342, 737, 7, 13, 14, ...\n",
      "total_of_special_requests:       int64             [0, 0, 0, 0, 1, 1, 0, ...\n",
      "diffrent_room_assigned:          int64             [0, 0, 1, 0, 0, 0, 0, ...\n",
      "market_segment:                  object            ['Direct', 'Direct',  ...\n",
      "required_car_parking_spaces:     int64             [0, 0, 0, 0, 0, 0, 0, ...\n",
      "distribution_channel:            object            ['Direct', 'Direct',  ...\n",
      "hotel:                           object            ['Resort Hotel', 'Res ...\n",
      "customer_type:                   object            ['Transient', 'Transi ...\n",
      "previous_bookings_not_canceled:  int64             [0, 0, 0, 0, 0, 0, 0, ...\n",
      "is_repeated_guest:               int64             [0, 0, 0, 0, 0, 0, 0, ...\n",
      "country_PRT:                     int64             [1, 1, 0, 0, 0, 0, 1, ...\n",
      "country_other:                   int64             [0, 0, 1, 1, 1, 1, 0, ...\n"
     ]
    }
   ],
   "source": [
    "# #writing the final dataframe to a csv file\n",
    "# df_subset.to_csv('hotels_subset.csv', index=False)\n",
    "\n",
    "#reading the final dataframe from a csv file\n",
    "hotel_df_subset = pd.read_csv('hotels_subset.csv')\n",
    "hotel_df_subset.glimpse()\n"
   ]
  },
  {
   "cell_type": "code",
   "execution_count": 77,
   "metadata": {},
   "outputs": [
    {
     "name": "stdout",
     "output_type": "stream",
     "text": [
      "Optimization terminated successfully.\n",
      "         Current function value: 0.608661\n",
      "         Iterations 6\n",
      "                           Logit Regression Results                           \n",
      "==============================================================================\n",
      "Dep. Variable:            is_canceled   No. Observations:               119386\n",
      "Model:                          Logit   Df Residuals:                   119382\n",
      "Method:                           MLE   Df Model:                            3\n",
      "Date:                Sun, 18 Feb 2024   Pseudo R-squ.:                 0.07662\n",
      "Time:                        17:23:23   Log-Likelihood:                -72666.\n",
      "converged:                       True   LL-Null:                       -78695.\n",
      "Covariance Type:            nonrobust   LLR p-value:                     0.000\n",
      "==================================================================================\n",
      "                     coef    std err          z      P>|z|      [0.025      0.975]\n",
      "----------------------------------------------------------------------------------\n",
      "const             -1.7643      0.016   -108.441      0.000      -1.796      -1.732\n",
      "(18.0, 69.0]       1.1831      0.020     58.330      0.000       1.143       1.223\n",
      "(69.0, 160.0]      1.4652      0.020     73.024      0.000       1.426       1.504\n",
      "(160.0, 737.0]     1.9827      0.020     99.082      0.000       1.944       2.022\n",
      "==================================================================================\n"
     ]
    }
   ],
   "source": [
    "#Causal Hypothesis\n",
    "#Hypothesis 1: Will reduce in lead time reduce the number of cancellations?\n",
    "# Good, this is within our control.\n",
    "\n",
    "\n",
    "#Simple Logistic Model\n",
    "import statsmodels.api as sm\n",
    "\n",
    "#preparing the data\n",
    "lead_time_df = hotel_df_subset[['is_canceled','lead_time']].copy()\n",
    "lead_time_df['lead_time_binned']=pd.qcut(lead_time_df['lead_time'], q=4, duplicates='drop')\n",
    "\n",
    "#one hot encoding(with dropping the first category to avoid multicollinearity)\n",
    "lead_time_dummies = pd.get_dummies(lead_time_df['lead_time_binned'], drop_first=True)\n",
    "\n",
    "X = lead_time_dummies.astype(float)\n",
    "y = lead_time_df['is_canceled'].astype(float)\n",
    "\n",
    "#add a constant to the imodel(intercept)    \n",
    "X = sm.add_constant(X)\n",
    "\n",
    "#fir the model\n",
    "logit_model = sm.Logit(y, X)\n",
    "result = logit_model.fit()\n",
    "\n",
    "#summary of the model\n",
    "print(result.summary())\n"
   ]
  },
  {
   "cell_type": "markdown",
   "metadata": {},
   "source": [
    "This is explaining 7% (R-Sq = 0.07662) of the variance in the target variable. So we will amke a more advanced model to predict the target variable."
   ]
  },
  {
   "cell_type": "code",
   "execution_count": null,
   "metadata": {},
   "outputs": [],
   "source": []
  }
 ],
 "metadata": {
  "kernelspec": {
   "display_name": "Python 3",
   "language": "python",
   "name": "python3"
  },
  "language_info": {
   "codemirror_mode": {
    "name": "ipython",
    "version": 3
   },
   "file_extension": ".py",
   "mimetype": "text/x-python",
   "name": "python",
   "nbconvert_exporter": "python",
   "pygments_lexer": "ipython3",
   "version": "3.9.6"
  }
 },
 "nbformat": 4,
 "nbformat_minor": 2
}
